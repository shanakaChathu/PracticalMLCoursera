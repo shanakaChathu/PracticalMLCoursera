{
 "cells": [
  {
   "cell_type": "markdown",
   "metadata": {},
   "source": [
    "# Practical Machine Learning -Final Project "
   ]
  },
  {
   "cell_type": "code",
   "execution_count": 16,
   "metadata": {},
   "outputs": [],
   "source": [
    "#Importing libaries \n",
    "library(caret)\n",
    "library(randomForest)\n",
    "library(e1071)"
   ]
  },
  {
   "cell_type": "code",
   "execution_count": 2,
   "metadata": {},
   "outputs": [],
   "source": [
    "#Read data \n",
    "rawData <- read.csv(\"pml-training.csv\", na.strings = c(\"NA\", \"\"))"
   ]
  },
  {
   "cell_type": "code",
   "execution_count": 3,
   "metadata": {},
   "outputs": [
    {
     "data": {
      "text/plain": [
       "propNAs\n",
       "                0 0.979308938946081 \n",
       "               60               100 "
      ]
     },
     "metadata": {},
     "output_type": "display_data"
    }
   ],
   "source": [
    "#Pre-processing\n",
    "propNAs <- colMeans(is.na(rawData))\n",
    "table(propNAs)\n",
    "idx <- !propNAs\n",
    "rawDataReduced <- rawData[idx]\n",
    "\n",
    "idx <- grep(\"^X$|user_name|timestamp|window\", names(rawDataReduced))\n",
    "rawDataReduced2 <- rawDataReduced[-idx]"
   ]
  },
  {
   "cell_type": "code",
   "execution_count": 4,
   "metadata": {},
   "outputs": [],
   "source": [
    "#Train set \n",
    "inTrain <- createDataPartition(y = rawDataReduced2$classe, p = 0.7, list = FALSE)\n",
    "training <- rawDataReduced2[inTrain, ]\n",
    "crossval <- rawDataReduced2[-inTrain, ]"
   ]
  },
  {
   "cell_type": "code",
   "execution_count": 12,
   "metadata": {},
   "outputs": [],
   "source": [
    "#Trainning model \n",
    "trControl <- trainControl(method = \"cv\", number = 2)\n",
    "modFit <- train(classe ~ ., data = training, method = \"rf\", prox = TRUE, trControl = trControl)"
   ]
  },
  {
   "cell_type": "code",
   "execution_count": 14,
   "metadata": {},
   "outputs": [
    {
     "data": {
      "text/html": [
       "<strong>Accuracy:</strong> 0.99303313508921"
      ],
      "text/latex": [
       "\\textbf{Accuracy:} 0.99303313508921"
      ],
      "text/markdown": [
       "**Accuracy:** 0.99303313508921"
      ],
      "text/plain": [
       " Accuracy \n",
       "0.9930331 "
      ]
     },
     "metadata": {},
     "output_type": "display_data"
    }
   ],
   "source": [
    "#Prediction model \n",
    "pred <- predict(modFit, newdata = crossval)\n",
    "coMa <- confusionMatrix(pred, reference = crossval$classe)\n",
    "acc <- coMa$overall[\"Accuracy\"]\n",
    "acc"
   ]
  },
  {
   "cell_type": "code",
   "execution_count": 15,
   "metadata": {},
   "outputs": [
    {
     "data": {
      "text/html": [
       "<table>\n",
       "<thead><tr><th></th><th scope=col>Overall</th></tr></thead>\n",
       "<tbody>\n",
       "\t<tr><th scope=row>roll_belt</th><td>100.00000</td></tr>\n",
       "\t<tr><th scope=row>yaw_belt</th><td> 78.16359</td></tr>\n",
       "\t<tr><th scope=row>magnet_dumbbell_z</th><td> 67.30660</td></tr>\n",
       "\t<tr><th scope=row>magnet_dumbbell_y</th><td> 63.19929</td></tr>\n",
       "\t<tr><th scope=row>pitch_forearm</th><td> 62.34782</td></tr>\n",
       "</tbody>\n",
       "</table>\n"
      ],
      "text/latex": [
       "\\begin{tabular}{r|l}\n",
       "  & Overall\\\\\n",
       "\\hline\n",
       "\troll\\_belt & 100.00000\\\\\n",
       "\tyaw\\_belt &  78.16359\\\\\n",
       "\tmagnet\\_dumbbell\\_z &  67.30660\\\\\n",
       "\tmagnet\\_dumbbell\\_y &  63.19929\\\\\n",
       "\tpitch\\_forearm &  62.34782\\\\\n",
       "\\end{tabular}\n"
      ],
      "text/markdown": [
       "\n",
       "| <!--/--> | Overall |\n",
       "|---|---|\n",
       "| roll_belt | 100.00000 |\n",
       "| yaw_belt |  78.16359 |\n",
       "| magnet_dumbbell_z |  67.30660 |\n",
       "| magnet_dumbbell_y |  63.19929 |\n",
       "| pitch_forearm |  62.34782 |\n",
       "\n"
      ],
      "text/plain": [
       "                  Overall  \n",
       "roll_belt         100.00000\n",
       "yaw_belt           78.16359\n",
       "magnet_dumbbell_z  67.30660\n",
       "magnet_dumbbell_y  63.19929\n",
       "pitch_forearm      62.34782"
      ]
     },
     "metadata": {},
     "output_type": "display_data"
    }
   ],
   "source": [
    "#Variable importance \n",
    "vi <- varImp(modFit)$importance\n",
    "vi[head(order(unlist(vi), decreasing = TRUE), 5L), , drop = FALSE]"
   ]
  }
 ],
 "metadata": {
  "kernelspec": {
   "display_name": "R",
   "language": "R",
   "name": "ir"
  },
  "language_info": {
   "codemirror_mode": "r",
   "file_extension": ".r",
   "mimetype": "text/x-r-source",
   "name": "R",
   "pygments_lexer": "r",
   "version": "3.6.1"
  }
 },
 "nbformat": 4,
 "nbformat_minor": 4
}
